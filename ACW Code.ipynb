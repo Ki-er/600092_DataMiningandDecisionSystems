{
 "cells": [
  {
   "cell_type": "markdown",
   "id": "3cdf3403",
   "metadata": {},
   "source": [
    "# Kieran Robson - 600092 - Data Mining ACW"
   ]
  },
  {
   "cell_type": "markdown",
   "id": "2e2f4e46",
   "metadata": {},
   "source": [
    "# Business Understanding\n",
    "1. To predict whether a patient is a risk of mortality depending on any previous health issues they may have/had.\n",
    "2. To have an efficient model with 99% or above accuracy."
   ]
  },
  {
   "cell_type": "markdown",
   "id": "41da2b4c",
   "metadata": {},
   "source": [
    "# Data Understanding\n",
    "## Import the modules needed"
   ]
  },
  {
   "cell_type": "code",
   "execution_count": null,
   "id": "42249792",
   "metadata": {},
   "outputs": [],
   "source": [
    "#Imports various modules\n",
    "import pandas as pd\n",
    "import seaborn as sb\n",
    "import matplotlib.pyplot as mat\n",
    "import numpy as np\n",
    "%matplotlib inline\n",
    "\n",
    "import sklearn.model_selection\n",
    "\n",
    "from sklearn.metrics import confusion_matrix, ConfusionMatrixDisplay\n",
    "from sklearn.metrics import accuracy_score\n",
    "\n",
    "from sklearn.neural_network import MLPClassifier\n",
    "from sklearn.tree import DecisionTreeClassifier\n",
    "from sklearn.ensemble import RandomForestClassifier"
   ]
  },
  {
   "cell_type": "markdown",
   "id": "4f95ea4f",
   "metadata": {},
   "source": [
    "## Import the data and copy it to a new variable so the original data is not effected"
   ]
  },
  {
   "cell_type": "code",
   "execution_count": null,
   "id": "f5ce513e",
   "metadata": {},
   "outputs": [],
   "source": [
    "#Reads in data csv\n",
    "trainData = pd.read_csv(\"cardio-vascular--ACWData.csv\")\n",
    "#Copies trainData as to not effect current data set\n",
    "dataCopy = trainData"
   ]
  },
  {
   "cell_type": "markdown",
   "id": "056bce1a",
   "metadata": {},
   "source": [
    "## Data Analysis showcasing all attributes, data type and number of null values"
   ]
  },
  {
   "cell_type": "code",
   "execution_count": null,
   "id": "2ceb9333",
   "metadata": {},
   "outputs": [],
   "source": [
    "dataCopy.info()"
   ]
  },
  {
   "cell_type": "markdown",
   "id": "e446b087",
   "metadata": {},
   "source": [
    "# Data Preparation\n",
    "## Data Cleaning"
   ]
  },
  {
   "cell_type": "code",
   "execution_count": null,
   "id": "45ad1aa5",
   "metadata": {},
   "outputs": [],
   "source": [
    "#Drop rows that arent relevant medically\n",
    "dataCopy.drop(['Random', 'Id'], axis = 1, inplace = True)\n",
    "\n",
    "#Replacing lower Asx with ASx so consistent throughout\n",
    "dataCopy['Indication'].replace({'Asx': 'ASx'}, inplace = True)\n",
    "\n",
    "#Gets rid of errors within Contra\n",
    "dataCopy['Contra'] = pd.to_numeric(dataCopy.Contra, errors='coerce')\n",
    "#Fills null cells with mean\n",
    "dataCopy['Contra'].fillna(value = dataCopy['Contra'].mean(), inplace = True)\n",
    "\n",
    "#Filling IPSI null values with mean\n",
    "dataCopy['IPSI'].fillna(value = dataCopy['IPSI'].mean(), inplace = True)\n",
    "\n",
    "#Filling in data using mode\n",
    "dataCopy['Indication'].fillna(dataCopy['Indication'].mode()[0], inplace = True)\n",
    "dataCopy['Diabetes'].fillna(dataCopy['Diabetes'].mode()[0], inplace = True)\n",
    "dataCopy['IHD'].fillna(dataCopy['IHD'].mode()[0], inplace = True)\n",
    "dataCopy['Hypertension'].fillna(dataCopy['Hypertension'].mode()[0], inplace = True)\n",
    "dataCopy['Arrhythmia'].fillna(dataCopy['Arrhythmia'].mode()[0], inplace = True)\n",
    "dataCopy['History'].fillna(dataCopy['History'].mode()[0], inplace = True)\n",
    "\n",
    "#Replace yes and no into Binary\n",
    "dataCopy['Diabetes'].replace({'yes': 1, 'no': 0}, inplace = True)\n",
    "dataCopy['IHD'].replace({'yes': 1, 'no': 0}, inplace = True)\n",
    "dataCopy['Hypertension'].replace({'yes': 1, 'no': 0}, inplace = True)\n",
    "dataCopy['Arrhythmia'].replace({'yes': 1, 'no': 0}, inplace = True)\n",
    "dataCopy['History'].replace({'yes': 1, 'no': 0}, inplace = True)\n",
    "\n",
    "#Drop all Unknown Values\n",
    "dataCopy.drop(dataCopy.index[dataCopy['label'] == 'Unknown'], inplace=True)\n",
    "#Drop null values\n",
    "dataCopy.dropna(subset=['label'], inplace = True)\n",
    "#Turn Risk and NoRisk into Binary\n",
    "dataCopy['label'].replace({'Risk': 1, 'NoRisk': 0}, inplace = True)"
   ]
  },
  {
   "cell_type": "markdown",
   "id": "9dff2ed3",
   "metadata": {},
   "source": [
    "# Modelling\n",
    "## Create Dummies"
   ]
  },
  {
   "cell_type": "code",
   "execution_count": null,
   "id": "a97a7c8e",
   "metadata": {
    "scrolled": true
   },
   "outputs": [],
   "source": [
    "dataCopy = pd.get_dummies(dataCopy)\n",
    "pd.get_dummies(dataCopy)"
   ]
  },
  {
   "cell_type": "markdown",
   "id": "1afcbb57",
   "metadata": {},
   "source": [
    "## Creating Test and Train Data"
   ]
  },
  {
   "cell_type": "code",
   "execution_count": null,
   "id": "59d7b87a",
   "metadata": {
    "scrolled": true
   },
   "outputs": [],
   "source": [
    "y = dataCopy['label']\n",
    "x = dataCopy.drop('label', axis = 1)\n",
    "\n",
    "x_train, x_test, y_train, y_test = sklearn.model_selection.train_test_split(x, y, test_size=0.3, shuffle = True)"
   ]
  },
  {
   "cell_type": "markdown",
   "id": "ef305f28",
   "metadata": {},
   "source": [
    "## Create Classifiers "
   ]
  },
  {
   "cell_type": "code",
   "execution_count": null,
   "id": "4de53a1d",
   "metadata": {},
   "outputs": [],
   "source": [
    "modelMLP = MLPClassifier(solver='adam', activation='logistic', max_iter=500000)\n",
    "modelRF = RandomForestClassifier(random_state=0)"
   ]
  },
  {
   "cell_type": "markdown",
   "id": "3d5c7262",
   "metadata": {},
   "source": [
    "## Fitting Data and Predicting Data"
   ]
  },
  {
   "cell_type": "code",
   "execution_count": null,
   "id": "963c5cfa",
   "metadata": {},
   "outputs": [],
   "source": [
    "modelMLP.fit(x_train, y_train)\n",
    "modelRF.fit(x_train, y_train)\n",
    "\n",
    "YPredMLP = modelMLP.predict(x_test)\n",
    "YPredRF = modelRF.predict(x_test)"
   ]
  },
  {
   "cell_type": "markdown",
   "id": "8c280c2c",
   "metadata": {},
   "source": [
    "# Model 1 - RandomForest\n",
    "## M1 Confusion Matrix"
   ]
  },
  {
   "cell_type": "code",
   "execution_count": null,
   "id": "efe3c2e8",
   "metadata": {},
   "outputs": [],
   "source": [
    "cm = confusion_matrix(y_test, YPredRF)\n",
    "disp = ConfusionMatrixDisplay(confusion_matrix=cm)\n",
    "disp.plot()\n",
    "print(accuracy_score(y_test, YPredRF))"
   ]
  },
  {
   "cell_type": "markdown",
   "id": "36a51fe2",
   "metadata": {},
   "source": [
    "# Model 2 - MultiLayer Perceptron (MLP)\n",
    "\n",
    "## M2 Confusion Matrix"
   ]
  },
  {
   "cell_type": "code",
   "execution_count": null,
   "id": "134f1185",
   "metadata": {},
   "outputs": [],
   "source": [
    "cm = confusion_matrix(y_test, YPredMLP)\n",
    "disp = ConfusionMatrixDisplay(confusion_matrix=cm)\n",
    "disp.plot()\n",
    "print(accuracy_score(y_test, YPredMLP))"
   ]
  },
  {
   "cell_type": "markdown",
   "id": "6f57616d",
   "metadata": {},
   "source": [
    "# Evaluation\n",
    "MLP's overall performance could be improved. While it matches the first business requirement, it does not match the second by a large margin, with an accuracy below 0.98. \n",
    "The RandomForest model was a success, with most results being 0 - 5 false positives and 0 - 3 false negatives. With this model, objective 1 was met since it predicted whether patients would die. This model met business objective 2 as most results showed 99% accuracy or better.\n"
   ]
  },
  {
   "cell_type": "code",
   "execution_count": null,
   "id": "eb4fd7ad",
   "metadata": {},
   "outputs": [],
   "source": []
  }
 ],
 "metadata": {
  "kernelspec": {
   "display_name": "Python 3",
   "language": "python",
   "name": "python3"
  },
  "language_info": {
   "codemirror_mode": {
    "name": "ipython",
    "version": 3
   },
   "file_extension": ".py",
   "mimetype": "text/x-python",
   "name": "python",
   "nbconvert_exporter": "python",
   "pygments_lexer": "ipython3",
   "version": "3.9.5"
  }
 },
 "nbformat": 4,
 "nbformat_minor": 5
}
